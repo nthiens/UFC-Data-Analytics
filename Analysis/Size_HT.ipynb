{
 "cells": [
  {
   "cell_type": "markdown",
   "id": "2cc1a82b-62f2-4f6c-8aa2-a827c2f8c56d",
   "metadata": {},
   "source": [
    "# Does size matter in MMA?"
   ]
  },
  {
   "cell_type": "code",
   "execution_count": 298,
   "id": "f2785d49-d701-4781-b145-6b6992d2b440",
   "metadata": {},
   "outputs": [],
   "source": [
    "import pandas as pd\n",
    "import scipy.stats as stats\n",
    "\n",
    "fights = pd.read_csv('fights_overview.csv')\n",
    "fighters = pd.read_csv('fighters.csv')\n",
    "\n",
    "fights = pd.merge(fights, fighters, left_on=\"fighter_1_link\", right_on=\"fighter_link\")\n",
    "fights = fights[[\"fighter_1_link\", \"height\", \"reach\", \"fighter_1_result\", \"fighter_2_link\", \"fighter_2_result\"]]\n",
    "fights.rename(columns={'height': 'fighter_1_height', 'reach': \"fighter_1_reach\"}, inplace=True)\n",
    "fights = pd.merge(fights, fighters, left_on=\"fighter_2_link\", right_on=\"fighter_link\")\n",
    "fights = fights[[\"fighter_1_link\", \"fighter_1_height\", \"fighter_1_reach\", \"fighter_1_result\", \n",
    "                 \"fighter_2_link\", \"height\", \"reach\" ,\"fighter_2_result\"]]\n",
    "fights.rename(columns={'height': 'fighter_2_height', 'reach': \"fighter_2_reach\"}, inplace=True)\n",
    "fights = fights.dropna()\n",
    "fights = fights[~fights['fighter_1_result'].isin(['NC', 'D'])]\n",
    "\n",
    "def find_height_diff(row):\n",
    "    if row['fighter_1_result'] == \"L\":\n",
    "        return row['fighter_2_height'] - row['fighter_1_height']  \n",
    "    else:\n",
    "        return row['fighter_1_height'] - row['fighter_2_height']  \n",
    "\n",
    "def find_reach_diff(row):\n",
    "    if row['fighter_1_result'] == \"L\":\n",
    "        return row['fighter_2_reach'] - row['fighter_1_reach']  \n",
    "    else:\n",
    "        return row['fighter_1_reach'] - row['fighter_2_reach']  \n",
    "\n",
    "## The height difference column is define by winner's height - loser's height\n",
    "## The reach difference column is define by winner's reach - loser's reach\n",
    "\n",
    "fights[\"height_diff\"] = fights.apply(find_height_diff, axis=1)\n",
    "fights[\"reach_diff\"] = fights.apply(find_reach_diff, axis=1)"
   ]
  },
  {
   "cell_type": "markdown",
   "id": "5caef7f0-1ded-4550-b849-59bdaf21b32c",
   "metadata": {},
   "source": [
    "## First hypothesis test\n",
    "H<sub>0</sub>= mean(height_diff) = 0\n",
    "\n",
    "H<sub>A</sub>= mean(height_diff) &ne; 0"
   ]
  },
  {
   "cell_type": "code",
   "execution_count": 301,
   "id": "9b62f082-ccaf-4dbf-9837-67dabe3e5272",
   "metadata": {},
   "outputs": [
    {
     "name": "stdout",
     "output_type": "stream",
     "text": [
      "p-value: 0.000613892673543839\n"
     ]
    }
   ],
   "source": [
    "p_value = (stats.ttest_1samp(fights['height_diff'], 0))[1]\n",
    "print(\"p-value:\", p_value)"
   ]
  },
  {
   "cell_type": "markdown",
   "id": "6f2c6cb4-ff4a-421f-8845-9067b9717ce8",
   "metadata": {},
   "source": [
    "## Second hypothesis test\n",
    "H<sub>0</sub>= mean(height_reach) = 0\n",
    "\n",
    "H<sub>A</sub>= mean(height_reach) &ne; 0"
   ]
  },
  {
   "cell_type": "code",
   "execution_count": 304,
   "id": "d3bac903-4a18-4bdb-8591-0568bf65bc8f",
   "metadata": {},
   "outputs": [
    {
     "name": "stdout",
     "output_type": "stream",
     "text": [
      "p-value: 4.071697939923229e-07\n"
     ]
    }
   ],
   "source": [
    "p_value = (stats.ttest_1samp(fights['reach_diff'], 0))[1]\n",
    "print(\"p-value:\", p_value_2)"
   ]
  },
  {
   "cell_type": "code",
   "execution_count": 306,
   "id": "73fcf9aa-03e5-485b-a0d2-ee42790f0b30",
   "metadata": {},
   "outputs": [
    {
     "name": "stdout",
     "output_type": "stream",
     "text": [
      "0.103770783847981\n",
      "0.2002672209026128\n"
     ]
    }
   ],
   "source": [
    "print(fights['height_diff'].mean())\n",
    "print(fights['reach_diff'].mean())"
   ]
  },
  {
   "cell_type": "markdown",
   "id": "85f38439-46f9-4108-9e35-69731fb17cc8",
   "metadata": {},
   "source": [
    "# Conclusion"
   ]
  },
  {
   "cell_type": "markdown",
   "id": "4f0ef649-5bb2-45ce-9f6e-f28a1303b056",
   "metadata": {},
   "source": [
    "Both null hypotheses are rejected meaning there is evidence that both height and reach influence the result of the fight. Winners are on average 0.1 inches (0.25 cm) taller than their opponent have have a reach 0.2 inches (0.5 cm) longer than their opponent."
   ]
  }
 ],
 "metadata": {
  "kernelspec": {
   "display_name": "Python 3 (ipykernel)",
   "language": "python",
   "name": "python3"
  },
  "language_info": {
   "codemirror_mode": {
    "name": "ipython",
    "version": 3
   },
   "file_extension": ".py",
   "mimetype": "text/x-python",
   "name": "python",
   "nbconvert_exporter": "python",
   "pygments_lexer": "ipython3",
   "version": "3.12.4"
  }
 },
 "nbformat": 4,
 "nbformat_minor": 5
}
